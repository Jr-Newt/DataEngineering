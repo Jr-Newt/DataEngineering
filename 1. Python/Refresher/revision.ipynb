{
 "cells": [
  {
   "cell_type": "code",
   "execution_count": 1,
   "metadata": {},
   "outputs": [
    {
     "name": "stdout",
     "output_type": "stream",
     "text": [
      "this is python String. We are learning python programming\n"
     ]
    }
   ],
   "source": [
    "str1 = 'this is python String. We are learning python programming'\n",
    "print(str1)"
   ]
  },
  {
   "cell_type": "code",
   "execution_count": 2,
   "metadata": {},
   "outputs": [
    {
     "data": {
      "text/plain": [
       "'gnimmargorp nohtyp gninrael era eW .gnirtS nohtyp si siht'"
      ]
     },
     "execution_count": 2,
     "metadata": {},
     "output_type": "execute_result"
    }
   ],
   "source": [
    "str1[::-1]"
   ]
  },
  {
   "cell_type": "code",
   "execution_count": 5,
   "metadata": {},
   "outputs": [],
   "source": [
    "str2 = \"my name is Issac\""
   ]
  },
  {
   "cell_type": "code",
   "execution_count": 6,
   "metadata": {},
   "outputs": [
    {
     "name": "stdout",
     "output_type": "stream",
     "text": [
      "mthis is python String. We are learning python programmingythis is python String. We are learning python programming this is python String. We are learning python programmingnthis is python String. We are learning python programmingathis is python String. We are learning python programmingmthis is python String. We are learning python programmingethis is python String. We are learning python programming this is python String. We are learning python programmingithis is python String. We are learning python programmingsthis is python String. We are learning python programming this is python String. We are learning python programmingIthis is python String. We are learning python programmingsthis is python String. We are learning python programmingsthis is python String. We are learning python programmingathis is python String. We are learning python programmingc\n"
     ]
    }
   ],
   "source": [
    "print(str1.join(str2))"
   ]
  },
  {
   "cell_type": "code",
   "execution_count": 7,
   "metadata": {},
   "outputs": [
    {
     "data": {
      "text/plain": [
       "'I Am Issac'"
      ]
     },
     "execution_count": 7,
     "metadata": {},
     "output_type": "execute_result"
    }
   ],
   "source": [
    "list1 = [\"I\",\"Am\",\"Issac\"]\n",
    "sen = \" \".join(list1)\n",
    "sen"
   ]
  },
  {
   "cell_type": "code",
   "execution_count": 14,
   "metadata": {},
   "outputs": [
    {
     "name": "stdout",
     "output_type": "stream",
     "text": [
      " I am Issac  \n",
      "I am Issac  \n"
     ]
    }
   ],
   "source": [
    "sen = \" I am Issac  \"\n",
    "strip = sen.lstrip()\n",
    "print(sen)\n",
    "print(strip)"
   ]
  },
  {
   "cell_type": "code",
   "execution_count": 17,
   "metadata": {},
   "outputs": [
    {
     "name": "stdout",
     "output_type": "stream",
     "text": [
      "['Hello', 'my', 'name', 'is', 'Issac', 'Wilson']\n",
      "['Hello', 'my', 'name', 'is', 'Issac', 'Wilson']\n",
      "['Hello', 'my', 'name', 'is', 'Issac', 'Wilson']\n"
     ]
    }
   ],
   "source": [
    "list2 = {}\n",
    "list2 = list()\n",
    "list2 = ['Hello','my','name','is','Issac']\n",
    "list2.append('Wilson')\n",
    "list2\n",
    "\n",
    "list3 = list2.copy()\n",
    "list4 = list2\n",
    "print(list2)\n",
    "print(list3)\n",
    "print(list4)"
   ]
  },
  {
   "cell_type": "code",
   "execution_count": null,
   "metadata": {},
   "outputs": [],
   "source": []
  }
 ],
 "metadata": {
  "kernelspec": {
   "display_name": "Python 3",
   "language": "python",
   "name": "python3"
  },
  "language_info": {
   "codemirror_mode": {
    "name": "ipython",
    "version": 3
   },
   "file_extension": ".py",
   "mimetype": "text/x-python",
   "name": "python",
   "nbconvert_exporter": "python",
   "pygments_lexer": "ipython3",
   "version": "3.12.3"
  }
 },
 "nbformat": 4,
 "nbformat_minor": 2
}

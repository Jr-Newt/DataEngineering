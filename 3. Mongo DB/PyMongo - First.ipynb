{
 "cells": [
  {
   "cell_type": "code",
   "execution_count": 5,
   "id": "78cae21a-5dec-4206-ac13-542079a58e40",
   "metadata": {},
   "outputs": [
    {
     "name": "stdout",
     "output_type": "stream",
     "text": [
      "Collecting pymongo\n",
      "  Using cached pymongo-4.8.0-cp312-cp312-win_amd64.whl.metadata (22 kB)\n",
      "Collecting dnspython<3.0.0,>=1.16.0 (from pymongo)\n",
      "  Using cached dnspython-2.6.1-py3-none-any.whl.metadata (5.8 kB)\n",
      "Downloading pymongo-4.8.0-cp312-cp312-win_amd64.whl (680 kB)\n",
      "   ---------------------------------------- 0.0/680.4 kB ? eta -:--:--\n",
      "    --------------------------------------- 10.2/680.4 kB ? eta -:--:--\n",
      "   - ------------------------------------- 30.7/680.4 kB 435.7 kB/s eta 0:00:02\n",
      "   ------- -------------------------------- 122.9/680.4 kB 1.0 MB/s eta 0:00:01\n",
      "   --------------------------------- ------ 573.4/680.4 kB 3.6 MB/s eta 0:00:01\n",
      "   ---------------------------------------- 680.4/680.4 kB 3.6 MB/s eta 0:00:00\n",
      "Downloading dnspython-2.6.1-py3-none-any.whl (307 kB)\n",
      "   ---------------------------------------- 0.0/307.7 kB ? eta -:--:--\n",
      "   ---------------------------------------- 307.7/307.7 kB 9.6 MB/s eta 0:00:00\n",
      "Installing collected packages: dnspython, pymongo\n",
      "Successfully installed dnspython-2.6.1 pymongo-4.8.0\n"
     ]
    }
   ],
   "source": [
    "!pip install pymongo"
   ]
  },
  {
   "cell_type": "code",
   "execution_count": 7,
   "id": "1086f11d-74f8-428e-9d31-476e0c756cc1",
   "metadata": {},
   "outputs": [],
   "source": [
    "import pymongo"
   ]
  },
  {
   "cell_type": "markdown",
   "id": "98027129-55b1-4b14-8a80-81baa6afade2",
   "metadata": {},
   "source": [
    "### Step 1. Connect to Mongo Nosql Databse"
   ]
  },
  {
   "cell_type": "code",
   "execution_count": 29,
   "id": "85f188e4-1694-45ca-a9ae-e48de48075a3",
   "metadata": {},
   "outputs": [
    {
     "data": {
      "text/plain": [
       "MongoClient(host=['localhost:27017'], document_class=dict, tz_aware=False, connect=True)"
      ]
     },
     "execution_count": 29,
     "metadata": {},
     "output_type": "execute_result"
    }
   ],
   "source": [
    "client = pymongo.MongoClient(\"localhost:27017\")\n",
    "client"
   ]
  },
  {
   "cell_type": "code",
   "execution_count": 31,
   "id": "7997be13-6292-4bfc-bf6a-c59c39b0be10",
   "metadata": {},
   "outputs": [],
   "source": [
    "db = client['pymongo_DB']\n",
    "collection = db['testCollection']"
   ]
  },
  {
   "cell_type": "code",
   "execution_count": 39,
   "id": "99ecedc8-7ccb-4c1d-a069-9eb1edad3b24",
   "metadata": {},
   "outputs": [],
   "source": [
    "#create a document\n",
    "product1 = {\n",
    "    \"id\": 1,\n",
    "    \"name\": \"Samsung S23 Ultra\",\n",
    "    \"category\": \"Electronics\",\n",
    "    \"colors\": [\"Black\", \"White\", \"Blue\"],\n",
    "    \"storage\": [\"64GB\", \"128GB\", \"256GB\"],\n",
    "    \"price\": 899.99,\n",
    "    \"inStock\":True\n",
    "  }"
   ]
  },
  {
   "cell_type": "code",
   "execution_count": 41,
   "id": "85bbde75-cb27-4355-8e04-82c7ced334c6",
   "metadata": {},
   "outputs": [
    {
     "data": {
      "text/plain": [
       "InsertOneResult(ObjectId('66c43d766e0a25be0216b255'), acknowledged=True)"
      ]
     },
     "execution_count": 41,
     "metadata": {},
     "output_type": "execute_result"
    }
   ],
   "source": [
    "collection.insert_one(product1)"
   ]
  },
  {
   "cell_type": "code",
   "execution_count": 43,
   "id": "3824fdf4-78d3-4a9d-8c7a-cc44d9b11252",
   "metadata": {},
   "outputs": [],
   "source": [
    "products = [{\n",
    "    \"id\": 2,\n",
    "    \"name\": \"Laptop\",\n",
    "    \"category\": \"Electronics\",\n",
    "    \"colors\": [\"Silver\", \"Gray\", \"Black\"],\n",
    "    \"storage\": [\"256GB SSD\", \"512GB SSD\", \"1TB SSD\"],\n",
    "    \"price\": 899.99,\n",
    "    \"inStock\": True\n",
    "  },\n",
    "  {\n",
    "    \"id\": 3,\n",
    "    \"name\": \"Washing Machine\",\n",
    "    \"category\": \"Appliances\",\n",
    "    \"colors\": [\"White\", \"Silver\"],\n",
    "    \"storage\": [\"7kg\", \"8kg\", \"10kg\"],\n",
    "    \"price\": 699.99,\n",
    "    \"inStock\": False\n",
    "  },\n",
    "  {\n",
    "    \"id\": 4,\n",
    "    \"name\": \"Refrigerator\",\n",
    "    \"category\": \"Appliances\",\n",
    "    \"colors\": [\"Stainless Steel\", \"Black\", \"White\"],\n",
    "    \"storage\": [\"200L\", \"300L\", \"400L\"],\n",
    "    \"price\": 1099.99,\n",
    "    \"inStock\": True\n",
    "  },\n",
    "  {\n",
    "    \"id\": 5,\n",
    "    \"name\": \"Blender\",\n",
    "    \"category\": \"Appliances\",\n",
    "    \"colors\": [\"Red\", \"Black\", \"White\"],\n",
    "    \"storage\": [\"1L\", \"1.5L\"],\n",
    "    \"price\": 59.99,\n",
    "    \"inStock\": True\n",
    "  }\n",
    "]"
   ]
  },
  {
   "cell_type": "code",
   "execution_count": 45,
   "id": "3d93b900-9822-4f5f-be30-4a8919a2b78d",
   "metadata": {},
   "outputs": [
    {
     "data": {
      "text/plain": [
       "InsertManyResult([ObjectId('66c43d816e0a25be0216b256'), ObjectId('66c43d816e0a25be0216b257'), ObjectId('66c43d816e0a25be0216b258'), ObjectId('66c43d816e0a25be0216b259')], acknowledged=True)"
      ]
     },
     "execution_count": 45,
     "metadata": {},
     "output_type": "execute_result"
    }
   ],
   "source": [
    "collection.insert_many(products)"
   ]
  },
  {
   "cell_type": "code",
   "execution_count": 55,
   "id": "06d64755-a02d-4844-bef5-04cfca11b3e5",
   "metadata": {},
   "outputs": [
    {
     "data": {
      "text/plain": [
       "{'_id': ObjectId('66c43d766e0a25be0216b255'),\n",
       " 'id': 1,\n",
       " 'name': 'Samsung S23 Ultra',\n",
       " 'category': 'Electronics',\n",
       " 'colors': ['Black', 'White', 'Blue'],\n",
       " 'storage': ['64GB', '128GB', '256GB'],\n",
       " 'price': 899.99,\n",
       " 'inStock': True}"
      ]
     },
     "execution_count": 55,
     "metadata": {},
     "output_type": "execute_result"
    }
   ],
   "source": [
    "collection.find_one()         #Access first record"
   ]
  },
  {
   "cell_type": "code",
   "execution_count": 57,
   "id": "2bc57c11-9d42-4088-918d-6f1d78798202",
   "metadata": {},
   "outputs": [
    {
     "data": {
      "text/plain": [
       "{'_id': ObjectId('66c43d816e0a25be0216b256'),\n",
       " 'id': 2,\n",
       " 'name': 'Laptop',\n",
       " 'category': 'Electronics',\n",
       " 'colors': ['Silver', 'Gray', 'Black'],\n",
       " 'storage': ['256GB SSD', '512GB SSD', '1TB SSD'],\n",
       " 'price': 899.99,\n",
       " 'inStock': True}"
      ]
     },
     "execution_count": 57,
     "metadata": {},
     "output_type": "execute_result"
    }
   ],
   "source": [
    "collection.find_one({\"id\":2})   # Access record using product_id = '2'"
   ]
  },
  {
   "cell_type": "code",
   "execution_count": 59,
   "id": "b05a8fa6-6076-43d7-95e7-a311dd0a93db",
   "metadata": {},
   "outputs": [],
   "source": [
    "allDocuments = collection.find()"
   ]
  },
  {
   "cell_type": "code",
   "execution_count": 69,
   "id": "dd0bed4b-84b6-4544-9f60-7ee19c456bd1",
   "metadata": {},
   "outputs": [
    {
     "name": "stdout",
     "output_type": "stream",
     "text": [
      "{'_id': ObjectId('66c43d766e0a25be0216b255'), 'id': 1, 'name': 'Samsung S23 Ultra', 'category': 'Electronics', 'colors': ['Black', 'White', 'Blue'], 'storage': ['64GB', '128GB', '256GB'], 'price': 899.99, 'inStock': True}\n",
      "{'_id': ObjectId('66c43d816e0a25be0216b256'), 'id': 2, 'name': 'Laptop', 'category': 'Electronics', 'colors': ['Silver', 'Gray', 'Black'], 'storage': ['256GB SSD', '512GB SSD', '1TB SSD'], 'price': 899.99, 'inStock': True}\n",
      "{'_id': ObjectId('66c43d816e0a25be0216b257'), 'id': 3, 'name': 'Washing Machine', 'category': 'Appliances', 'colors': ['White', 'Silver'], 'storage': ['7kg', '8kg', '10kg'], 'price': 699.99, 'inStock': False}\n",
      "{'_id': ObjectId('66c43d816e0a25be0216b258'), 'id': 4, 'name': 'Refrigerator', 'category': 'Appliances', 'colors': ['Stainless Steel', 'Black', 'White'], 'storage': ['200L', '300L', '400L'], 'price': 1099.99, 'inStock': True}\n",
      "{'_id': ObjectId('66c43d816e0a25be0216b259'), 'id': 5, 'name': 'Blender', 'category': 'Appliances', 'colors': ['Red', 'Black', 'White'], 'storage': ['1L', '1.5L'], 'price': 59.99, 'inStock': True}\n"
     ]
    }
   ],
   "source": [
    "for i in allDocuments:\n",
    "    print(i)"
   ]
  },
  {
   "cell_type": "code",
   "execution_count": 81,
   "id": "d67d307e-1eca-4254-99b8-54975261295b",
   "metadata": {},
   "outputs": [],
   "source": [
    "db.testCollection1.drop()"
   ]
  },
  {
   "cell_type": "code",
   "execution_count": 91,
   "id": "2c651997-0819-49ec-a23d-7f54927e908b",
   "metadata": {},
   "outputs": [
    {
     "name": "stdout",
     "output_type": "stream",
     "text": [
      "{'_id': ObjectId('66c43d766e0a25be0216b255'), 'id': 1, 'name': 'Samsung S23 Ultra', 'category': 'Electronics', 'colors': ['Black', 'White', 'Blue'], 'storage': ['64GB', '128GB', '256GB'], 'price': 899.99, 'inStock': True}\n",
      "{'_id': ObjectId('66c43d816e0a25be0216b256'), 'id': 2, 'name': 'Laptop', 'category': 'Electronics', 'colors': ['Silver', 'Gray', 'Black'], 'storage': ['256GB SSD', '512GB SSD', '1TB SSD'], 'price': 899.99, 'inStock': True}\n",
      "{'_id': ObjectId('66c43d816e0a25be0216b257'), 'id': 3, 'name': 'Washing Machine', 'category': 'Appliances', 'colors': ['White', 'Silver'], 'storage': ['7kg', '8kg', '10kg'], 'price': 699.99, 'inStock': False}\n",
      "{'_id': ObjectId('66c43d816e0a25be0216b258'), 'id': 4, 'name': 'Refrigerator', 'category': 'Appliances', 'colors': ['Stainless Steel', 'Black', 'White'], 'storage': ['200L', '300L', '400L'], 'price': 1099.99, 'inStock': True}\n",
      "{'_id': ObjectId('66c43d816e0a25be0216b259'), 'id': 5, 'name': 'Blender', 'category': 'Appliances', 'colors': ['Red', 'Black', 'White'], 'storage': ['1L', '1.5L'], 'price': 59.99, 'inStock': True}\n"
     ]
    }
   ],
   "source": [
    "def main():\n",
    "    client = pymongo.MongoClient(\"localhost:27017\")\n",
    "    db = client['pymongo_DB']\n",
    "    try:\n",
    "        db.testCollection1.drop()\n",
    "    except:\n",
    "        print(\"collection Does Not Exist\")\n",
    "        \n",
    "    collection = db['testCollection1']\n",
    "    collection.insert_one(product1)\n",
    "    collection.insert_many(products)\n",
    "    allDocuments = collection.find()\n",
    "\n",
    "    for i in allDocuments:\n",
    "        print(i)\n",
    "\n",
    "\n",
    "if __name__ == \"__main__\":\n",
    "    main()"
   ]
  },
  {
   "cell_type": "code",
   "execution_count": 93,
   "id": "d7835869-c7e5-439f-9e03-bb17b54e58d5",
   "metadata": {},
   "outputs": [
    {
     "data": {
      "text/plain": [
       "['admin', 'config', 'ecommerce', 'local', 'pymongo_DB', 'restaurants']"
      ]
     },
     "execution_count": 93,
     "metadata": {},
     "output_type": "execute_result"
    }
   ],
   "source": [
    "client.list_database_names()"
   ]
  },
  {
   "cell_type": "code",
   "execution_count": 95,
   "id": "eb63cacc-4ff1-4a89-9a23-c3d5d62e1d5f",
   "metadata": {},
   "outputs": [
    {
     "data": {
      "text/plain": [
       "['testCollection1', 'testCollection']"
      ]
     },
     "execution_count": 95,
     "metadata": {},
     "output_type": "execute_result"
    }
   ],
   "source": [
    "db.list_collection_names()"
   ]
  },
  {
   "cell_type": "code",
   "execution_count": 101,
   "id": "9c125611-0973-448a-8f88-c5bc1e56af30",
   "metadata": {},
   "outputs": [
    {
     "data": {
      "text/plain": [
       "['Blender', 'Laptop', 'Refrigerator', 'Samsung S23 Ultra', 'Washing Machine']"
      ]
     },
     "execution_count": 101,
     "metadata": {},
     "output_type": "execute_result"
    }
   ],
   "source": [
    "#to collect disttinct values from collecrtion of documents.\n",
    "distinct_product = collection.distinct(\"name\")\n",
    "distinct_product"
   ]
  },
  {
   "cell_type": "code",
   "execution_count": null,
   "id": "fe03f2f0-a244-4c4b-b2e3-78768f8f5eb2",
   "metadata": {},
   "outputs": [],
   "source": []
  }
 ],
 "metadata": {
  "kernelspec": {
   "display_name": "Python 3 (ipykernel)",
   "language": "python",
   "name": "python3"
  },
  "language_info": {
   "codemirror_mode": {
    "name": "ipython",
    "version": 3
   },
   "file_extension": ".py",
   "mimetype": "text/x-python",
   "name": "python",
   "nbconvert_exporter": "python",
   "pygments_lexer": "ipython3",
   "version": "3.12.4"
  }
 },
 "nbformat": 4,
 "nbformat_minor": 5
}

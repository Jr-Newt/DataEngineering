{
 "cells": [
  {
   "cell_type": "markdown",
   "metadata": {
    "application/vnd.databricks.v1+cell": {
     "cellMetadata": {},
     "inputWidgets": {},
     "nuid": "88247f50-8ffd-4cc0-94b9-42a7a2ac0cf6",
     "showTitle": false,
     "title": ""
    }
   },
   "source": [
    "### Initializing"
   ]
  },
  {
   "cell_type": "code",
   "execution_count": null,
   "metadata": {
    "application/vnd.databricks.v1+cell": {
     "cellMetadata": {
      "byteLimit": 2048000,
      "rowLimit": 10000
     },
     "inputWidgets": {},
     "nuid": "fed4f655-acee-4c47-8c97-f047b774c627",
     "showTitle": false,
     "title": ""
    }
   },
   "outputs": [],
   "source": [
    "from pyspark.sql import SparkSession\n",
    "# Create a new Spark session with case-sensitive configuration\n",
    "spark = SparkSession.builder \\\n",
    "    .appName(\"NewSparkSession\") \\\n",
    "    .config(\"spark.sql.caseSensitive\", \"true\") \\\n",
    "    .getOrCreate()"
   ]
  },
  {
   "cell_type": "code",
   "execution_count": null,
   "metadata": {
    "application/vnd.databricks.v1+cell": {
     "cellMetadata": {
      "byteLimit": 2048000,
      "rowLimit": 10000
     },
     "inputWidgets": {},
     "nuid": "5492937e-4db5-4ad5-bea4-c08d4ba0107c",
     "showTitle": false,
     "title": ""
    }
   },
   "outputs": [],
   "source": [
    "from pyspark.sql.functions import *\n",
    "from pyspark import StorageLevel"
   ]
  },
  {
   "cell_type": "code",
   "execution_count": null,
   "metadata": {
    "application/vnd.databricks.v1+cell": {
     "cellMetadata": {
      "byteLimit": 2048000,
      "rowLimit": 10000
     },
     "inputWidgets": {},
     "nuid": "a6b88a84-88f0-4564-b322-611a05490fdb",
     "showTitle": false,
     "title": ""
    }
   },
   "outputs": [],
   "source": [
    "cosmos_endpoint = \"###\"\n",
    "cosmos_primary_key = \"###\"\n",
    "cosmos_database_name = \"Capstone\"\n",
    "cosmos_container_name = \"Application\"\n",
    "cosmos_container_name2 = \"Credit\""
   ]
  },
  {
   "cell_type": "code",
   "execution_count": null,
   "metadata": {
    "application/vnd.databricks.v1+cell": {
     "cellMetadata": {
      "byteLimit": 2048000,
      "rowLimit": 10000
     },
     "inputWidgets": {},
     "nuid": "06349451-2242-4f48-9a07-e2296db76994",
     "showTitle": false,
     "title": ""
    }
   },
   "outputs": [],
   "source": [
    "# Configuring Spark for Cosmos DB access\n",
    "spark.conf.set(\"spark.azure.cosmos.accountEndpoint\", cosmos_endpoint)\n",
    "spark.conf.set(\"spark.azure.cosmos.accountKey\", cosmos_primary_key)\n",
    "spark.conf.set(\"spark.azure.cosmos.database\", cosmos_database_name)\n",
    "spark.conf.set(\"spark.azure.cosmos.container\", cosmos_container_name)\n",
    "spark.conf.set(\"spark.azure.cosmos.container\", cosmos_container_name2)\n",
    "spark.conf.set(\"spark.azure.cosmos.read.inferSchema.enabled\", \"true\")  # Optional: Infer schema automatically"
   ]
  },
  {
   "cell_type": "code",
   "execution_count": null,
   "metadata": {
    "application/vnd.databricks.v1+cell": {
     "cellMetadata": {
      "byteLimit": 2048000,
      "rowLimit": 10000
     },
     "inputWidgets": {},
     "nuid": "1f7aa875-0d3a-49ea-bf39-190ed2a9b1ac",
     "showTitle": false,
     "title": ""
    }
   },
   "outputs": [],
   "source": [
    "# reading Application dataset as application_df\n",
    "\n",
    "application_df = spark.read.format(\"cosmos.oltp\") \\\n",
    ".option(\"spark.cosmos.accountEndpoint\", cosmos_endpoint) \\\n",
    ".option(\"spark.cosmos.accountKey\", cosmos_primary_key) \\\n",
    ".option(\"spark.cosmos.database\", cosmos_database_name) \\\n",
    ".option(\"spark.cosmos.container\", cosmos_container_name) \\\n",
    ".load()\n",
    " \n",
    "# application_df.show()"
   ]
  },
  {
   "cell_type": "code",
   "execution_count": null,
   "metadata": {
    "application/vnd.databricks.v1+cell": {
     "cellMetadata": {
      "byteLimit": 2048000,
      "rowLimit": 10000
     },
     "inputWidgets": {},
     "nuid": "2fce805a-7a62-49fd-9238-af347bd5be71",
     "showTitle": false,
     "title": ""
    }
   },
   "outputs": [],
   "source": [
    "# reading Credit dataset as credit_df\n",
    "\n",
    "credit_df = spark.read.format(\"cosmos.oltp\") \\\n",
    ".option(\"spark.cosmos.accountEndpoint\", cosmos_endpoint) \\\n",
    ".option(\"spark.cosmos.accountKey\", cosmos_primary_key) \\\n",
    ".option(\"spark.cosmos.database\", cosmos_database_name) \\\n",
    ".option(\"spark.cosmos.container\", cosmos_container_name2) \\\n",
    ".load()"
   ]
  },
  {
   "cell_type": "markdown",
   "metadata": {
    "application/vnd.databricks.v1+cell": {
     "cellMetadata": {},
     "inputWidgets": {},
     "nuid": "4023b867-837e-4c52-8f2c-996ef74e1cde",
     "showTitle": false,
     "title": ""
    }
   },
   "source": [
    "### Optimising for better querying"
   ]
  },
  {
   "cell_type": "code",
   "execution_count": null,
   "metadata": {
    "application/vnd.databricks.v1+cell": {
     "cellMetadata": {
      "byteLimit": 2048000,
      "rowLimit": 10000
     },
     "inputWidgets": {},
     "nuid": "d6530038-3d81-427c-8958-389c84403c85",
     "showTitle": false,
     "title": ""
    }
   },
   "outputs": [],
   "source": [
    "application_df = application_df.cache()\n",
    "credit_df = credit_df.cache()"
   ]
  },
  {
   "cell_type": "markdown",
   "metadata": {
    "application/vnd.databricks.v1+cell": {
     "cellMetadata": {},
     "inputWidgets": {},
     "nuid": "c93fcd2d-a0d4-4919-9b93-2ca2fc6c8025",
     "showTitle": false,
     "title": ""
    }
   },
   "source": [
    "### Shape"
   ]
  },
  {
   "cell_type": "code",
   "execution_count": null,
   "metadata": {
    "application/vnd.databricks.v1+cell": {
     "cellMetadata": {
      "byteLimit": 2048000,
      "rowLimit": 10000
     },
     "inputWidgets": {},
     "nuid": "d4609777-fce2-4eb1-a961-37700e2efa67",
     "showTitle": false,
     "title": ""
    }
   },
   "outputs": [],
   "source": [
    "print(f\"No. of records in ApplicationDF: {application_df.count()}\")\n",
    "print(f\"No. of columns in ApplicationDF: {len(application_df.columns)}\")"
   ]
  },
  {
   "cell_type": "code",
   "execution_count": null,
   "metadata": {
    "application/vnd.databricks.v1+cell": {
     "cellMetadata": {
      "byteLimit": 2048000,
      "rowLimit": 10000
     },
     "inputWidgets": {},
     "nuid": "2cef2360-4c3f-429d-bd20-c94f059ca942",
     "showTitle": false,
     "title": ""
    }
   },
   "outputs": [],
   "source": [
    "print(f\"No. of records in CreditDF: {credit_df.count()}\")\n",
    "print(f\"No. of records in CreditDF: {len(credit_df.columns)}\")"
   ]
  },
  {
   "cell_type": "markdown",
   "metadata": {
    "application/vnd.databricks.v1+cell": {
     "cellMetadata": {},
     "inputWidgets": {},
     "nuid": "cd3ec970-66e4-4256-bbd1-663d2d9dfaba",
     "showTitle": false,
     "title": ""
    }
   },
   "source": [
    "### Type Casting "
   ]
  },
  {
   "cell_type": "code",
   "execution_count": null,
   "metadata": {
    "application/vnd.databricks.v1+cell": {
     "cellMetadata": {
      "byteLimit": 2048000,
      "rowLimit": 10000
     },
     "inputWidgets": {},
     "nuid": "cd28652b-22ca-480c-a78d-671c198c5c6b",
     "showTitle": false,
     "title": ""
    }
   },
   "outputs": [],
   "source": [
    "application_df = application_df \\\n",
    "    .withColumn(\"ID\", col(\"ID\").cast(\"int\")) \\\n",
    "    .withColumn(\"CNT_CHILDREN\", col(\"CNT_CHILDREN\").cast(\"int\")) \\\n",
    "    .withColumn(\"AMT_INCOME_TOTAL\", col(\"AMT_INCOME_TOTAL\").cast(\"float\")) \\\n",
    "    .withColumn(\"DAYS_BIRTH\", col(\"DAYS_BIRTH\").cast(\"int\")) \\\n",
    "    .withColumn(\"DAYS_EMPLOYED\", col(\"DAYS_EMPLOYED\").cast(\"int\")) \\\n",
    "    .withColumn(\"FLAG_MOBIL\", col(\"FLAG_MOBIL\").cast(\"int\")) \\\n",
    "    .withColumn(\"FLAG_WORK_PHONE\", col(\"FLAG_WORK_PHONE\").cast(\"int\")) \\\n",
    "    .withColumn(\"FLAG_PHONE\", col(\"FLAG_PHONE\").cast(\"int\")) \\\n",
    "    .withColumn(\"FLAG_EMAIL\", col(\"FLAG_EMAIL\").cast(\"int\")) \\\n",
    "    .withColumn(\"CNT_FAM_MEMBERS\", col(\"CNT_FAM_MEMBERS\").cast(\"float\"))\n",
    "\n",
    "application_df.printSchema()\n",
    "\n",
    "credit_df = credit_df \\\n",
    "    .withColumn(\"ID\", col(\"ID\").cast(\"int\")) \\\n",
    "    .withColumn(\"MONTHS_BALANCE\", col(\"MONTHS_BALANCE\").cast(\"int\")) \\\n",
    "    .withColumn(\"STATUS\", col(\"STATUS\").cast(\"string\"))\n",
    "\n",
    "credit_df.printSchema()"
   ]
  },
  {
   "cell_type": "markdown",
   "metadata": {
    "application/vnd.databricks.v1+cell": {
     "cellMetadata": {},
     "inputWidgets": {},
     "nuid": "046c8907-d316-4ffc-93e1-c57551c63bf6",
     "showTitle": false,
     "title": ""
    }
   },
   "source": [
    "### Renaming Column name to standard form"
   ]
  },
  {
   "cell_type": "code",
   "execution_count": null,
   "metadata": {
    "application/vnd.databricks.v1+cell": {
     "cellMetadata": {
      "byteLimit": 2048000,
      "rowLimit": 10000
     },
     "inputWidgets": {},
     "nuid": "a0869933-cc67-488e-a4c3-39c41b5d3bf1",
     "showTitle": false,
     "title": ""
    }
   },
   "outputs": [],
   "source": [
    "application_df = application_df\\\n",
    "  .withColumnRenamed(\"CODE_GENDER\", \"Gender\")\\\n",
    "  .withColumnRenamed(\"FLAG_OWN_CAR\", \"Car\")\\\n",
    "  .withColumnRenamed(\"FLAG_OWN_REALTY\", \"property\")\\\n",
    "  .withColumnRenamed(\"CNT_CHILDREN\", \"Children_Count\")\\\n",
    "  .withColumnRenamed(\"AMT_INCOME_TOTAL\", \"Annual_Income\")\\\n",
    "  .withColumnRenamed(\"NAME_INCOME_TYPE\", \"Income_Category\")\\\n",
    "  .withColumnRenamed(\"NAME_EDUCATION_TYPE\", \"Education\")\\\n",
    "  .withColumnRenamed(\"NAME_FAMILY_STATUS\", \"Marital_Status\")\\\n",
    "  .withColumnRenamed(\"NAME_HOUSING_TYPE\", \"Housing_type\")\\\n",
    "  .withColumnRenamed(\"DAYS_BIRTH\", \"BirthDate\")\\\n",
    "  .withColumnRenamed(\"DAYS_EMPLOYED\", \"EmpDays\")\\\n",
    "  .withColumnRenamed(\"FLAG_MOBIL\", \"Mobile\")\\\n",
    "  .withColumnRenamed(\"FLAG_WORK_PHONE\", \"Work_Phone\")\\\n",
    "  .withColumnRenamed(\"FLAG_PHONE\", \"Phone\")\\\n",
    "  .withColumnRenamed(\"FLAG_EMAIL\", \"Email\")\\\n",
    "  .withColumnRenamed(\"OCCUPATION_TYPE\", \"Occupation\")\\\n",
    "  .withColumnRenamed(\"CNT_FAM_MEMBERS\", \"Family_size\")"
   ]
  },
  {
   "cell_type": "code",
   "execution_count": null,
   "metadata": {
    "application/vnd.databricks.v1+cell": {
     "cellMetadata": {
      "byteLimit": 2048000,
      "rowLimit": 10000
     },
     "inputWidgets": {},
     "nuid": "93f96bf8-6dbc-4307-801a-63e741aa76a9",
     "showTitle": false,
     "title": ""
    }
   },
   "outputs": [],
   "source": [
    "application_df.printSchema()"
   ]
  },
  {
   "cell_type": "code",
   "execution_count": null,
   "metadata": {
    "application/vnd.databricks.v1+cell": {
     "cellMetadata": {
      "byteLimit": 2048000,
      "rowLimit": 10000
     },
     "inputWidgets": {},
     "nuid": "613559ff-96b6-46f6-bfb2-72edd8dc8633",
     "showTitle": false,
     "title": ""
    }
   },
   "outputs": [],
   "source": [
    "application_df = application_df.drop(\"id\")\n",
    "application_df = application_df.dropDuplicates()\n",
    "# application_df.count()"
   ]
  },
  {
   "cell_type": "code",
   "execution_count": null,
   "metadata": {
    "application/vnd.databricks.v1+cell": {
     "cellMetadata": {
      "byteLimit": 2048000,
      "rowLimit": 10000
     },
     "inputWidgets": {},
     "nuid": "0d4a2a4d-de6b-4648-8058-5938bc2bb7ab",
     "showTitle": false,
     "title": ""
    }
   },
   "outputs": [],
   "source": [
    "credit_df = credit_df.drop(\"id\")\n",
    "credit_df = credit_df.dropDuplicates()\n",
    "# credit_df.count()"
   ]
  },
  {
   "cell_type": "markdown",
   "metadata": {
    "application/vnd.databricks.v1+cell": {
     "cellMetadata": {},
     "inputWidgets": {},
     "nuid": "4bc17201-8cad-4155-83d8-7e37f460482e",
     "showTitle": false,
     "title": ""
    }
   },
   "source": [
    "### Finding and dropping ID which are repeating"
   ]
  },
  {
   "cell_type": "code",
   "execution_count": null,
   "metadata": {
    "application/vnd.databricks.v1+cell": {
     "cellMetadata": {
      "byteLimit": 2048000,
      "rowLimit": 10000
     },
     "inputWidgets": {},
     "nuid": "69d0ee02-9bc6-4541-97b5-5b912f35b3ca",
     "showTitle": false,
     "title": ""
    }
   },
   "outputs": [],
   "source": [
    "application_df = application_df.orderBy('ID', ascending=False)\n",
    "application_df = application_df.dropDuplicates(subset=['ID'])"
   ]
  },
  {
   "cell_type": "markdown",
   "metadata": {
    "application/vnd.databricks.v1+cell": {
     "cellMetadata": {},
     "inputWidgets": {},
     "nuid": "d24c0889-ff75-4ea6-9122-3300b729fd00",
     "showTitle": false,
     "title": ""
    }
   },
   "source": [
    "### Findng the null values\n"
   ]
  },
  {
   "cell_type": "code",
   "execution_count": null,
   "metadata": {
    "application/vnd.databricks.v1+cell": {
     "cellMetadata": {
      "byteLimit": 2048000,
      "rowLimit": 10000
     },
     "inputWidgets": {},
     "nuid": "ecb3a479-2909-4a00-a0ff-c1882756cbd1",
     "showTitle": false,
     "title": ""
    }
   },
   "outputs": [],
   "source": [
    "application_df.select([count(when(col(c).isNull() | isnan(c), c)).alias(c) for c in application_df.columns])\\\n",
    "    .show()"
   ]
  },
  {
   "cell_type": "markdown",
   "metadata": {
    "application/vnd.databricks.v1+cell": {
     "cellMetadata": {},
     "inputWidgets": {},
     "nuid": "6e0dfa7d-f412-423c-bc50-9ea289d9f955",
     "showTitle": false,
     "title": ""
    }
   },
   "source": [
    "As we can see that occupation as highest null values(134190) but all other columns has no null values, and 134190 is a huge number and \n",
    "dropping it will make a significant change in data, we can assign \"unknown\" as occupation."
   ]
  },
  {
   "cell_type": "code",
   "execution_count": null,
   "metadata": {
    "application/vnd.databricks.v1+cell": {
     "cellMetadata": {
      "byteLimit": 2048000,
      "rowLimit": 10000
     },
     "inputWidgets": {},
     "nuid": "e61d50ee-d4cd-4733-81b6-244139c511a3",
     "showTitle": false,
     "title": ""
    }
   },
   "outputs": [],
   "source": [
    "application_df = application_df.fillna({'Occupation': 'Unknown'})"
   ]
  },
  {
   "cell_type": "markdown",
   "metadata": {
    "application/vnd.databricks.v1+cell": {
     "cellMetadata": {},
     "inputWidgets": {},
     "nuid": "cd058ce6-8d35-4f8e-8416-50d16004fba4",
     "showTitle": false,
     "title": ""
    }
   },
   "source": [
    "### Finding count of unique values of all columns so that columns with 1 unique value can be dropped"
   ]
  },
  {
   "cell_type": "code",
   "execution_count": null,
   "metadata": {
    "application/vnd.databricks.v1+cell": {
     "cellMetadata": {
      "byteLimit": 2048000,
      "rowLimit": 10000
     },
     "inputWidgets": {},
     "nuid": "2c52702f-773b-4ef0-aefa-9f99be8b9301",
     "showTitle": false,
     "title": ""
    }
   },
   "outputs": [],
   "source": [
    "application_df.select([countDistinct(col(c)).alias(c) for c in application_df.columns]).show()"
   ]
  },
  {
   "cell_type": "markdown",
   "metadata": {
    "application/vnd.databricks.v1+cell": {
     "cellMetadata": {},
     "inputWidgets": {},
     "nuid": "1c99dceb-6bbc-4c88-b6d7-f3ad4f3814fc",
     "showTitle": false,
     "title": ""
    }
   },
   "source": [
    "dropping column mobile since it has only 1 distint value"
   ]
  },
  {
   "cell_type": "code",
   "execution_count": null,
   "metadata": {
    "application/vnd.databricks.v1+cell": {
     "cellMetadata": {
      "byteLimit": 2048000,
      "rowLimit": 10000
     },
     "inputWidgets": {},
     "nuid": "97582c1b-960f-47bc-bc46-d4f7d15e8f2c",
     "showTitle": false,
     "title": ""
    }
   },
   "outputs": [],
   "source": [
    "application_df = application_df.drop('Mobile')"
   ]
  },
  {
   "cell_type": "markdown",
   "metadata": {
    "application/vnd.databricks.v1+cell": {
     "cellMetadata": {},
     "inputWidgets": {},
     "nuid": "30dfcec6-65ce-4f3a-9ad3-413d31e19004",
     "showTitle": false,
     "title": ""
    }
   },
   "source": [
    "### Converting columns into much more standard form"
   ]
  },
  {
   "cell_type": "code",
   "execution_count": null,
   "metadata": {
    "application/vnd.databricks.v1+cell": {
     "cellMetadata": {
      "byteLimit": 2048000,
      "rowLimit": 10000
     },
     "inputWidgets": {},
     "nuid": "d19df45d-fde4-414f-a05c-e1ec4dd5f261",
     "showTitle": false,
     "title": ""
    }
   },
   "outputs": [],
   "source": [
    "# Cleaning 'education_level' column\n",
    "application_df = application_df.withColumn(\n",
    "    'Education',\n",
    "    when(col('Education') == 'Secondary / secondary special', 'Secondary')\n",
    "    .otherwise(col('Education'))\n",
    ")\n",
    "\n",
    "# Cleaning 'marital_status' column\n",
    "application_df = application_df.withColumn(\n",
    "    'Marital_Status',\n",
    "    when(col('Marital_Status') == 'Single / not married', 'Single')\n",
    "    .otherwise(col('Marital_Status'))\n",
    ")\n",
    "\n",
    "# Cleaning 'house_type' column\n",
    "application_df = application_df.withColumn(\n",
    "    'Housing_type',\n",
    "    when(col('Housing_type') == 'House / apartment', 'House')\n",
    "    .otherwise(col('Housing_type'))\n",
    ")"
   ]
  },
  {
   "cell_type": "markdown",
   "metadata": {
    "application/vnd.databricks.v1+cell": {
     "cellMetadata": {},
     "inputWidgets": {},
     "nuid": "06b5f531-b871-4d96-a4d3-f9a0467c80a7",
     "showTitle": false,
     "title": ""
    }
   },
   "source": [
    "### Converting Birthdate into age"
   ]
  },
  {
   "cell_type": "code",
   "execution_count": null,
   "metadata": {
    "application/vnd.databricks.v1+cell": {
     "cellMetadata": {
      "byteLimit": 2048000,
      "rowLimit": 10000
     },
     "inputWidgets": {},
     "nuid": "4b878825-e4b6-4812-8d7d-e4e96f80b7b5",
     "showTitle": false,
     "title": ""
    }
   },
   "outputs": [],
   "source": [
    "application_df = application_df.withColumn(\"Age\", ((col(\"BirthDate\") / 365) * -1).cast(\"int\"))"
   ]
  },
  {
   "cell_type": "markdown",
   "metadata": {
    "application/vnd.databricks.v1+cell": {
     "cellMetadata": {},
     "inputWidgets": {},
     "nuid": "9d61fa66-8b61-4236-836c-39ca51d16c08",
     "showTitle": false,
     "title": ""
    }
   },
   "source": [
    "### Converting EmpDays to work experience (years)"
   ]
  },
  {
   "cell_type": "code",
   "execution_count": null,
   "metadata": {
    "application/vnd.databricks.v1+cell": {
     "cellMetadata": {
      "byteLimit": 2048000,
      "rowLimit": 10000
     },
     "inputWidgets": {},
     "nuid": "207cf255-925f-4cc6-9c98-4438fe816f99",
     "showTitle": false,
     "title": ""
    }
   },
   "outputs": [],
   "source": [
    "application_df = application_df.withColumn(\n",
    "    'experience_year',\n",
    "    when(col('EmpDays') < 0, (col('EmpDays') / 365) * -1)\n",
    "    .otherwise(0)\n",
    "    .cast(\"int\")\n",
    ")"
   ]
  },
  {
   "cell_type": "markdown",
   "metadata": {
    "application/vnd.databricks.v1+cell": {
     "cellMetadata": {},
     "inputWidgets": {},
     "nuid": "cb0c68eb-6e6d-44a5-9278-3b6c5480203e",
     "showTitle": false,
     "title": ""
    }
   },
   "source": [
    "dropping BirthData and EmpDays column since age and experience is calculated"
   ]
  },
  {
   "cell_type": "code",
   "execution_count": null,
   "metadata": {
    "application/vnd.databricks.v1+cell": {
     "cellMetadata": {
      "byteLimit": 2048000,
      "rowLimit": 10000
     },
     "inputWidgets": {},
     "nuid": "37a5a47b-1ab8-4ecb-8fc9-29bd1cab320e",
     "showTitle": false,
     "title": ""
    }
   },
   "outputs": [],
   "source": [
    "application_df = application_df.drop('BirthDate','EmpDays')"
   ]
  },
  {
   "cell_type": "code",
   "execution_count": null,
   "metadata": {
    "application/vnd.databricks.v1+cell": {
     "cellMetadata": {
      "byteLimit": 2048000,
      "rowLimit": 10000
     },
     "inputWidgets": {},
     "nuid": "4125b856-64fb-4bee-a376-6c398c5de37b",
     "showTitle": false,
     "title": ""
    }
   },
   "outputs": [],
   "source": [
    "joined_df = application_df.join(credit_df, on=\"ID\", how=\"inner\")\n",
    "joined_df = joined_df.cache()\n",
    "joined_df.show()"
   ]
  },
  {
   "cell_type": "code",
   "execution_count": null,
   "metadata": {
    "application/vnd.databricks.v1+cell": {
     "cellMetadata": {
      "byteLimit": 2048000,
      "rowLimit": 10000
     },
     "inputWidgets": {},
     "nuid": "1d83ee5b-365e-4e5c-87ed-ebd50085044d",
     "showTitle": false,
     "title": ""
    }
   },
   "outputs": [],
   "source": [
    "joined_df.count()"
   ]
  },
  {
   "cell_type": "code",
   "execution_count": null,
   "metadata": {
    "application/vnd.databricks.v1+cell": {
     "cellMetadata": {
      "byteLimit": 2048000,
      "rowLimit": 10000
     },
     "inputWidgets": {},
     "nuid": "8b65d629-a10f-411f-94bf-684781286bdc",
     "showTitle": false,
     "title": ""
    }
   },
   "outputs": [],
   "source": [
    "write_df = joined_df.repartition(1)"
   ]
  },
  {
   "cell_type": "markdown",
   "metadata": {
    "application/vnd.databricks.v1+cell": {
     "cellMetadata": {},
     "inputWidgets": {},
     "nuid": "0880db75-070a-461f-8421-550a008746d0",
     "showTitle": false,
     "title": ""
    }
   },
   "source": [
    "### Writing back to storage"
   ]
  },
  {
   "cell_type": "code",
   "execution_count": null,
   "metadata": {
    "application/vnd.databricks.v1+cell": {
     "cellMetadata": {
      "byteLimit": 2048000,
      "rowLimit": 10000
     },
     "inputWidgets": {},
     "nuid": "76763b9b-3636-42c5-9502-8a5aad75e673",
     "showTitle": false,
     "title": ""
    }
   },
   "outputs": [],
   "source": [
    "storage_account_name = \"newtcapstonestorage\"\n",
    "storage_account_key = \"7pP7X7l8ryenn0XDORhX6bqiLDClUqfn3moIfPN4KuyrXh8dN7reOOYHaWtVkBwXIauPn+Knj1hn+AStUW9zgQ==\"\n",
    "container_name = \"transformeddata\"\n",
    "spark.conf.set(f\"fs.azure.account.key.{storage_account_name}.blob.core.windows.net\", storage_account_key)\n",
    "output_path = f\"wasbs://{container_name}@{storage_account_name}.blob.core.windows.net/\"\n",
    "write_df.write.mode(\"overwrite\").option(\"header\", \"true\").parquet(output_path)"
   ]
  }
 ],
 "metadata": {
  "application/vnd.databricks.v1+notebook": {
   "dashboards": [],
   "environmentMetadata": null,
   "language": "python",
   "notebookMetadata": {
    "pythonIndentUnit": 4
   },
   "notebookName": "CreditCard - Transformation",
   "widgets": {}
  },
  "language_info": {
   "name": "plaintext"
  }
 },
 "nbformat": 4,
 "nbformat_minor": 0
}
